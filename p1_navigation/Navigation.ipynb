{
 "cells": [
  {
   "cell_type": "markdown",
   "metadata": {
    "pycharm": {
     "name": "#%% md\n"
    }
   },
   "source": [
    "# Navigation\n",
    "\n",
    "---\n",
    "\n",
    "This notebook uses the unity ML environment and trains a Deep Q-Network (DQN) agent to solve the banana collection and navigation environment.\n",
    "\n",
    "A DQN is an improvement over a Q-Learning algorithm such that DQN uses a deep neural network to approximate the action value function rather than directly trying to estimate it (using a Q-table, for example).\n",
    "\n",
    "First, the modules needed for the project are loaded."
   ]
  },
  {
   "cell_type": "code",
   "execution_count": 1,
   "outputs": [],
   "source": [
    "# Import common/pip libraries\n",
    "import numpy as np\n",
    "import matplotlib.pyplot as plt\n",
    "import torch\n",
    "from collections import deque\n",
    "from unityagents import UnityEnvironment\n",
    "\n",
    "# Import custom modules\n",
    "from dqn_agent import Agent\n",
    "from model import QNetwork, DuelingQNetwork"
   ],
   "metadata": {
    "collapsed": false,
    "pycharm": {
     "name": "#%%\n"
    }
   }
  },
  {
   "cell_type": "markdown",
   "source": [
    "If you want to use a GPU, make sure torch is running correctly. Otherwise, skip this step."
   ],
   "metadata": {
    "collapsed": false,
    "pycharm": {
     "name": "#%% md\n"
    }
   }
  },
  {
   "cell_type": "code",
   "execution_count": 2,
   "outputs": [
    {
     "name": "stdout",
     "output_type": "stream",
     "text": [
      "True True True <torch.cuda.device object at 0x0000021990923CC0> NVIDIA GeForce RTX 3080 Laptop GPU\n"
     ]
    }
   ],
   "source": [
    "# torch gpu compatibility test\n",
    "print(torch.cuda.is_available()==True,\n",
    "torch.cuda.device_count()==1,\n",
    "torch.cuda.current_device()==0,\n",
    "torch.cuda.device(0),\n",
    "torch.cuda.get_device_name(0))"
   ],
   "metadata": {
    "collapsed": false,
    "pycharm": {
     "name": "#%%\n"
    }
   }
  },
  {
   "cell_type": "markdown",
   "source": [
    "Select device to run for training."
   ],
   "metadata": {
    "collapsed": false,
    "pycharm": {
     "name": "#%% md\n"
    }
   }
  },
  {
   "cell_type": "code",
   "execution_count": 3,
   "outputs": [],
   "source": [
    "# Uncomment the device you want to use.\n",
    "#device = 'cuda:0'\n",
    "device = 'cpu'"
   ],
   "metadata": {
    "collapsed": false,
    "pycharm": {
     "name": "#%%\n"
    }
   }
  },
  {
   "cell_type": "markdown",
   "source": [
    "### 1. Start the Environment\n",
    "\n",
    "If the python environment specifications are correct, then this cell should return no error. Otherwise, reference the project README and env.txt to ensure you have all the necessary packages. If the errors persist, try building an environment straight from the env.txt using `pip install -r env.txt`.\n",
    "\n",
    "If the unity environment fails to load, make sure you have the `Banana_Data` folder in the same directory as this notebook. Also verify the version number of the `unityagents` package (0.4.0) and try using version 3.6.3 of `python`.\n",
    "\n",
    "If you want to train the agent and don't want to see it do anything, comment out line 2 in the cell below."
   ],
   "metadata": {
    "collapsed": false,
    "pycharm": {
     "name": "#%% md\n"
    }
   }
  },
  {
   "cell_type": "code",
   "execution_count": 4,
   "metadata": {
    "pycharm": {
     "name": "#%%\n"
    }
   },
   "outputs": [
    {
     "name": "stderr",
     "output_type": "stream",
     "text": [
      "INFO:unityagents:\n",
      "'Academy' started successfully!\n",
      "Unity Academy name: Academy\n",
      "        Number of Brains: 1\n",
      "        Number of External Brains : 1\n",
      "        Lesson number : 0\n",
      "        Reset Parameters :\n",
      "\t\t\n",
      "Unity brain name: BananaBrain\n",
      "        Number of Visual Observations (per agent): 0\n",
      "        Vector Observation space type: continuous\n",
      "        Vector Observation space size (per agent): 37\n",
      "        Number of stacked Vector Observation: 1\n",
      "        Vector Action space type: discrete\n",
      "        Vector Action space size (per agent): 4\n",
      "        Vector Action descriptions: , , , \n"
     ]
    }
   ],
   "source": [
    "unity_env = UnityEnvironment(file_name=\"Banana.exe\"\n",
    "                       , no_graphics=True\n",
    "                       )"
   ]
  },
  {
   "cell_type": "markdown",
   "metadata": {
    "pycharm": {
     "name": "#%% md\n"
    }
   },
   "source": [
    "Unity environments contain **_brains_** which are responsible for deciding the actions of their associated agents. Here we check for the first brain available, and set it as the default brain we will be controlling from Python."
   ]
  },
  {
   "cell_type": "code",
   "execution_count": 5,
   "metadata": {
    "pycharm": {
     "name": "#%%\n"
    }
   },
   "outputs": [],
   "source": [
    "# get the default brain\n",
    "brain_name = unity_env.brain_names[0]\n",
    "brain = unity_env.brains[brain_name]"
   ]
  },
  {
   "cell_type": "markdown",
   "metadata": {
    "pycharm": {
     "name": "#%% md\n"
    }
   },
   "source": [
    "### 2. Examine the State and Action Spaces\n",
    "\n",
    "The simulation contains a single agent that navigates a large environment.  At each time step, it has four actions at its disposal:\n",
    "- `0` - walk forward \n",
    "- `1` - walk backward\n",
    "- `2` - turn left\n",
    "- `3` - turn right\n",
    "\n",
    "The state space has `37` dimensions and contains the agent's velocity, along with ray-based perception of objects around agent's forward direction.  A reward of `+1` is provided for collecting a yellow banana, and a reward of `-1` is provided for collecting a blue banana. \n",
    "\n",
    "Run the code cell below to print some information about the environment."
   ]
  },
  {
   "cell_type": "code",
   "execution_count": 6,
   "metadata": {
    "pycharm": {
     "name": "#%%\n"
    }
   },
   "outputs": [
    {
     "name": "stdout",
     "output_type": "stream",
     "text": [
      "Number of agents: 1\n",
      "Number of actions: 4\n",
      "States look like: [1.         0.         0.         0.         0.84408134 0.\n",
      " 0.         1.         0.         0.0748472  0.         1.\n",
      " 0.         0.         0.25755    1.         0.         0.\n",
      " 0.         0.74177343 0.         1.         0.         0.\n",
      " 0.25854847 0.         0.         1.         0.         0.09355672\n",
      " 0.         1.         0.         0.         0.31969345 0.\n",
      " 0.        ]\n",
      "States have length: 37\n"
     ]
    }
   ],
   "source": [
    "# reset the environment\n",
    "env_info = unity_env.reset(train_mode=True)[brain_name]\n",
    "\n",
    "# number of agents in the environment\n",
    "print('Number of agents:', len(env_info.agents))\n",
    "\n",
    "# number of actions\n",
    "action_size = brain.vector_action_space_size\n",
    "print('Number of actions:', action_size)\n",
    "\n",
    "# examine the state space\n",
    "state = env_info.vector_observations[0]\n",
    "print('States look like:', state)\n",
    "state_size = len(state)\n",
    "print('States have length:', state_size)"
   ]
  },
  {
   "cell_type": "markdown",
   "metadata": {
    "pycharm": {
     "name": "#%% md\n"
    }
   },
   "source": [
    "### 3. (Optional) Take Random Actions in the Environment\n",
    "\n",
    "Run the following code block to see what it looks like when the agent behaves randomly."
   ]
  },
  {
   "cell_type": "code",
   "execution_count": 7,
   "metadata": {
    "pycharm": {
     "name": "#%%\n"
    }
   },
   "outputs": [
    {
     "name": "stdout",
     "output_type": "stream",
     "text": [
      "Score: 0.0\n"
     ]
    }
   ],
   "source": [
    "env_info = unity_env.reset(train_mode=False)[brain_name] # reset the environment\n",
    "state = env_info.vector_observations[0]            # get the current state\n",
    "score = 0                                          # initialize the score\n",
    "while True:\n",
    "    action = np.random.randint(action_size)        # select an action\n",
    "    env_info = unity_env.step(action)[brain_name]        # send the action to the environment\n",
    "    next_state = env_info.vector_observations[0]   # get the next state\n",
    "    reward = env_info.rewards[0]                   # get the reward\n",
    "    done = env_info.local_done[0]                  # see if episode has finished\n",
    "    score += reward                                # update the score\n",
    "    state = next_state                             # roll over the state to next time step\n",
    "    if done:                                       # exit loop if episode finished\n",
    "        break\n",
    "\n",
    "print(\"Score: {}\".format(score))"
   ]
  },
  {
   "cell_type": "markdown",
   "source": [
    "Don't worry about where the agent is after the random walk. The environment will reset before we begin training."
   ],
   "metadata": {
    "collapsed": false,
    "pycharm": {
     "name": "#%% md\n"
    }
   }
  },
  {
   "cell_type": "markdown",
   "source": [
    "### Train the Agent"
   ],
   "metadata": {
    "collapsed": false,
    "pycharm": {
     "name": "#%% md\n"
    }
   }
  },
  {
   "cell_type": "markdown",
   "source": [
    "To solve the environment, this agent was trained using a Deep Q Network (DQN). This DQN has two modifications to a vanilla DQN, namely an experience replay buffer and a delayed, soft fixed target update rule. The experience replay buffer holds 100000 samples total, and samples experiences in batch sizes of 64. The soft fixed target update rule updates both the target network weights and the local network weights every four steps using $\\theta_{target} = \\tau \\theta_{local} + (1 - \\tau) \\theta_{target}$ where $\\theta$ is the network weights and $\\tau$ is a value between 0 and 1. The implementation uses an $\\epsilon$-greedy policy to select the actions and a greedy policy to evaluate the next action. The $\\epsilon$-greedy policy uses epsilon decay to encourage exploration in the beginning and exploitation towards the end.\n",
    "\n",
    "Both the target network and the local network have two hidden layers, each with 64 nodes. The hidden layers use a relu activation function and the output layer uses a linear activation function. The input layer is the same size as the state space and the output layer is the size of the action space (37 and 4, respectively for the banana collection environment).\n",
    "\n",
    "In the case of the Dueling DQN, the hidden layers have the same amount of nodes and use the same activation functions for the hidden and output layers as the vanilla DQN. However, the Dueling DQN splits into two streams at the second hidden layers and the output layers. In this case, the splits also have 64 nodes at each hidden layer, but the output layer for the value stream has one node while the number of output nodes for the advantage stream is determined by the action space (4 in this case). The Dueling DQN combines the streams into a single output using this function:\n",
    "\n",
    "$$Q(s, a | \\theta, \\alpha, \\beta) = V(s | \\theta, \\beta) + (A(s, a | \\theta, \\alpha) - \\frac{1}{|A|} \\sum_{a' \\in |A|}{A(s, a' | \\theta, \\alpha)})$$\n",
    "\n",
    "where $Q(.)$ is the action-value function, $V(.)$ is the state-value function, $A(.)$ is the advantage function, $s, a$ is the state-action pair, $a'$ is advantageous action, $|A|$ is the set of actions, $\\theta$ is the neural network parameters for the main layers, and $\\alpha$ and $\\beta$ are the parameters for the two streams.\n",
    "\n",
    "The DQN agent initializes the following hyperparameters:\n",
    "\n",
    "```\n",
    "BUFFER_SIZE = int(1e5)  # replay buffer size\n",
    "BATCH_SIZE = 64  # minibatch size\n",
    "GAMMA = 0.99  # discount factor\n",
    "TAU = 1e-3  # for soft update of target parameters\n",
    "LR = 5e-4  # learning rate\n",
    "UPDATE_EVERY = 4  # how often to update the network\n",
    "```\n",
    "\n",
    "and the dqn training loop function initializes these hyperparameters:\n",
    "\n",
    "```{python}\n",
    "n_episodes = 2000 # maximum number of training episodes\n",
    "max_t = 1000 # maximum number of timesteps per episode\n",
    "eps_start = 1.0 # starting value of epsilon, for epsilon-greedy action selection\n",
    "eps_end = 0.01 # minimum value of epsilon\n",
    "eps_decay = 0.995 # multiplicative factor (per episode) for decreasing epsilon\n",
    "target_score = 13 # the score to stop evaluating at\n",
    "```\n"
   ],
   "metadata": {
    "collapsed": false,
    "pycharm": {
     "name": "#%% md\n"
    }
   }
  },
  {
   "cell_type": "markdown",
   "source": [
    "The following cell trains the agent using the DQN architecture described above."
   ],
   "metadata": {
    "collapsed": false,
    "pycharm": {
     "name": "#%% md\n"
    }
   }
  },
  {
   "cell_type": "code",
   "execution_count": 8,
   "outputs": [],
   "source": [
    "# Initialize the agent.\n",
    "agent = Agent(state_size=37, action_size=4, seed=0,\n",
    "              network=DuelingQNetwork, device=device)"
   ],
   "metadata": {
    "collapsed": false,
    "pycharm": {
     "name": "#%%\n"
    }
   }
  },
  {
   "cell_type": "code",
   "execution_count": 9,
   "outputs": [
    {
     "name": "stdout",
     "output_type": "stream",
     "text": [
      "Episode 100\tAverage Score: 0.68\n",
      "Episode 200\tAverage Score: 3.82\n",
      "Episode 300\tAverage Score: 7.55\n",
      "Episode 400\tAverage Score: 10.44\n",
      "Episode 496\tAverage Score: 13.03\n",
      "Environment solved in 396 episodes!\tAverage Score: 13.03\n"
     ]
    },
    {
     "data": {
      "text/plain": "<Figure size 432x288 with 1 Axes>",
      "image/png": "[encoded data removed]"
     },
     "metadata": {
      "needs_background": "light"
     },
     "output_type": "display_data"
    }
   ],
   "source": [
    "class Env(object):\n",
    "    \"\"\"\n",
    "    Helper Class for translating Unity env to gym env.\n",
    "    \"\"\"\n",
    "    def __init__(self, unity_env, train_mode=True):\n",
    "        \"\"\"Constructor for environment helper class.\n",
    "\n",
    "        Params\n",
    "        ======\n",
    "            unity_env (object): unity environment object\n",
    "            train_mode (bool): start the unity environment in training mode\n",
    "        \"\"\"\n",
    "        self.env = unity_env\n",
    "        self.brain_name = self.env.brain_names[0]\n",
    "        self.brain = self.env.brains[self.brain_name]\n",
    "        self.action_size = self.brain.vector_action_space_size\n",
    "        self.env_info = self.env.reset(train_mode=train_mode)[self.brain_name]\n",
    "        self.state_size = len(self.env_info.vector_observations[0])\n",
    "        self.train_mode = train_mode\n",
    "\n",
    "    def reset(self):\n",
    "        \"\"\"Reset the unity environment state\n",
    "        \"\"\"\n",
    "        self.env_info = self.env.reset(train_mode=self.train_mode)[self.brain_name]\n",
    "        return self.env_info.vector_observations[0]\n",
    "\n",
    "    def step(self, action):\n",
    "        \"\"\"Take a step in the unity environment.\n",
    "\n",
    "        Params\n",
    "        ======\n",
    "            action (int): action selected by agent\n",
    "        \"\"\"\n",
    "        self.env_info = self.env.step(action)[self.brain_name]        # send the action to the environment\n",
    "        next_state = self.env_info.vector_observations[0]   # get the next state\n",
    "        reward = self.env_info.rewards[0]                   # get the reward\n",
    "        done = self.env_info.local_done[0]\n",
    "        return next_state, reward, done, None\n",
    "\n",
    "\n",
    "env = Env(unity_env)\n",
    "device = torch.device(\"cuda:0\" if torch.cuda.is_available() else \"cpu\")\n",
    "\n",
    "def dqn(n_episodes=2000, max_t=1000, eps_start=1.0, eps_end=0.01, eps_decay=0.995, target_score=200):\n",
    "    \"\"\"Run a Deep Q-Learning training loop.\n",
    "\n",
    "    Params\n",
    "    ======\n",
    "        n_episodes (int): maximum number of training episodes\n",
    "        max_t (int): maximum number of timesteps per episode\n",
    "        eps_start (float): starting value of epsilon, for epsilon-greedy action selection\n",
    "        eps_end (float): minimum value of epsilon\n",
    "        eps_decay (float): multiplicative factor (per episode) for decreasing epsilon\n",
    "        target_score (float): stop the training early if the average score over a window\n",
    "                              is higher than target_score\n",
    "    \"\"\"\n",
    "    scores = []                        # list containing scores from each episode\n",
    "    scores_window = deque(maxlen=100)  # last 100 scores\n",
    "    eps = eps_start                    # initialize epsilon\n",
    "    for i_episode in range(1, n_episodes+1):\n",
    "        state = env.reset()\n",
    "        score = 0\n",
    "        for t in range(max_t):\n",
    "            action = agent.act(state, eps)\n",
    "            next_state, reward, done, _ = env.step(action)\n",
    "            agent.step(state, action, reward, next_state, done)\n",
    "            state = next_state\n",
    "            score += reward\n",
    "            if done:\n",
    "                break\n",
    "\n",
    "        scores_window.append(score)       # save most recent score\n",
    "        scores.append(score)              # save most recent score\n",
    "        eps = max(eps_end, eps_decay*eps) # decrease epsilon\n",
    "        print('\\rEpisode {}\\tAverage Score: {:.2f}'.format(i_episode, np.mean(scores_window)), end=\"\")\n",
    "        if i_episode % 100 == 0:\n",
    "            print('\\rEpisode {}\\tAverage Score: {:.2f}'.format(i_episode, np.mean(scores_window)))\n",
    "        if np.mean(scores_window)>=target_score:\n",
    "            print('\\nEnvironment solved in {:d} episodes!\\tAverage Score: {:.2f}'.format(i_episode-100, np.mean(scores_window)))\n",
    "            torch.save(agent.qnetwork_local.state_dict(), 'checkpoint.pth')\n",
    "            break\n",
    "\n",
    "    return scores\n",
    "\n",
    "# Begin training\n",
    "scores = dqn(n_episodes=2000, target_score=13.0)\n",
    "\n",
    "# plot the scores\n",
    "fig = plt.figure()\n",
    "ax = fig.add_subplot(111)\n",
    "plt.plot(np.arange(len(scores)), scores)\n",
    "plt.ylabel('Score')\n",
    "plt.xlabel('Episode #')\n",
    "plt.show()"
   ],
   "metadata": {
    "collapsed": false,
    "pycharm": {
     "name": "#%%\n"
    }
   }
  },
  {
   "cell_type": "markdown",
   "source": [
    "### Evaluate"
   ],
   "metadata": {
    "collapsed": false,
    "pycharm": {
     "name": "#%% md\n"
    }
   }
  },
  {
   "cell_type": "markdown",
   "source": [
    "As shown previously, the agent solves the environment in ~500 episodes. If you have the unity window open and enabled in the environment, then you can run the cell below to watch your trained agent collect bananas."
   ],
   "metadata": {
    "collapsed": false,
    "pycharm": {
     "name": "#%% md\n"
    }
   }
  },
  {
   "cell_type": "code",
   "execution_count": 10,
   "metadata": {
    "pycharm": {
     "name": "#%%\n"
    }
   },
   "outputs": [],
   "source": [
    "# load the weights from file\n",
    "agent.qnetwork_local.load_state_dict(torch.load('checkpoint.pth'))\n",
    "\n",
    "env_info = unity_env.reset(train_mode=False)[brain_name] # reset the environment\n",
    "state = env_info.vector_observations[0]            # get the current state\n",
    "score = 0                                          # initialize the score\n",
    "while True:\n",
    "    action = agent.act(state)        # select an action\n",
    "    env_info = unity_env.step(action)[brain_name]        # send the action to the environment\n",
    "    next_state = env_info.vector_observations[0]   # get the next state\n",
    "    reward = env_info.rewards[0]                   # get the reward\n",
    "    done = env_info.local_done[0]                  # see if episode has finished\n",
    "    score += reward                                # update the score\n",
    "    state = next_state                             # roll over the state to next time step\n",
    "    if done:                                       # exit loop if episode finished\n",
    "        break"
   ]
  },
  {
   "cell_type": "markdown",
   "source": [
    "Don't forget to close the environment when you're done."
   ],
   "metadata": {
    "collapsed": false,
    "pycharm": {
     "name": "#%% md\n"
    }
   }
  },
  {
   "cell_type": "code",
   "execution_count": 11,
   "outputs": [],
   "source": [
    "# close environment\n",
    "unity_env.close()"
   ],
   "metadata": {
    "collapsed": false,
    "pycharm": {
     "name": "#%%\n"
    }
   }
  },
  {
   "cell_type": "markdown",
   "source": [
    "### Ideas for future work\n",
    "\n",
    "While this DQN implementation solves this environment fairly well, there are still many areas for improvement. Future work could consider incorporating multi-step bootstrap targets or prioritized experience replay. The DQN could also be modified to include a Distributional DQN or a Noisy DQN. All of those methods could be combined, an example being the Rainbow algorithm. This example ws solved using trial and error by the author, but hyperparamter tuning both the networks and the RL algorithm as a whole could lead to better results."
   ],
   "metadata": {
    "collapsed": false,
    "pycharm": {
     "name": "#%% md\n"
    }
   }
  }
 ],
 "metadata": {
  "kernelspec": {
   "display_name": "Python 3",
   "language": "python",
   "name": "python3"
  },
  "language_info": {
   "codemirror_mode": {
    "name": "ipython",
    "version": 3
   },
   "file_extension": ".py",
   "mimetype": "text/x-python",
   "name": "python",
   "nbconvert_exporter": "python",
   "pygments_lexer": "ipython3",
   "version": "3.6.4"
  }
 },
 "nbformat": 4,
 "nbformat_minor": 2
}