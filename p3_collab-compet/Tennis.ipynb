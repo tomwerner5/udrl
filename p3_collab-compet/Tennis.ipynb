{
 "cells": [
  {
   "cell_type": "markdown",
   "metadata": {
    "pycharm": {
     "name": "#%% md\n"
    }
   },
   "source": [
    "# Continuous Control\n",
    "\n",
    "---\n",
    "\n",
    "This notebook uses the unity ML environment and trains a Multi-Agent Twin Delayed Deep Deterministic Policy Gradient (MATD3) agent to solve the Tennis environment.\n",
    "\n",
    "DDPG is an actor-critic method closely related to a Deep Q-Network (DQN). Sometimes called an approximate DQN, a DDPQ learns a function that chooses the action that maximizes the Q-values of the next state, similar to a DQN. TD3 adds to the DDPG architecture with methods that improve stability. MATD3 extends TD3 to work with environments that have multiple agents, as we'll see here.\n",
    "\n",
    "First, the modules needed for the project are loaded."
   ]
  },
  {
   "cell_type": "code",
   "execution_count": 1,
   "metadata": {
    "pycharm": {
     "name": "#%%\n"
    }
   },
   "outputs": [],
   "source": [
    "# Import common/pip libraries\n",
    "import numpy as np\n",
    "import matplotlib.pyplot as plt\n",
    "import torch\n",
    "from collections import deque\n",
    "from unityagents import UnityEnvironment\n",
    "\n",
    "# Import custom modules\n",
    "from td3_agent import MultiAgent\n",
    "from model import Actor, Critic"
   ]
  },
  {
   "cell_type": "markdown",
   "source": [
    "If you want to use a GPU, make sure torch is running correctly. Otherwise, skip this step."
   ],
   "metadata": {
    "collapsed": false,
    "pycharm": {
     "name": "#%% md\n"
    }
   }
  },
  {
   "cell_type": "code",
   "execution_count": 2,
   "outputs": [
    {
     "name": "stdout",
     "output_type": "stream",
     "text": [
      "True True True <torch.cuda.device object at 0x000001788F2953C8> NVIDIA GeForce RTX 3080 Laptop GPU\n"
     ]
    }
   ],
   "source": [
    "# torch gpu compatibility test\n",
    "print(torch.cuda.is_available()==True,\n",
    "torch.cuda.device_count()==1,\n",
    "torch.cuda.current_device()==0,\n",
    "torch.cuda.device(0),\n",
    "torch.cuda.get_device_name(0))"
   ],
   "metadata": {
    "collapsed": false,
    "pycharm": {
     "name": "#%%\n"
    }
   }
  },
  {
   "cell_type": "markdown",
   "source": [
    "Select device to run for training."
   ],
   "metadata": {
    "collapsed": false,
    "pycharm": {
     "name": "#%% md\n"
    }
   }
  },
  {
   "cell_type": "code",
   "execution_count": 3,
   "outputs": [],
   "source": [
    "# Uncomment the device you want to use.\n",
    "#device = 'cuda:0'\n",
    "device = 'cpu'"
   ],
   "metadata": {
    "collapsed": false,
    "pycharm": {
     "name": "#%%\n"
    }
   }
  },
  {
   "cell_type": "markdown",
   "source": [
    "### 1. Start the Environment\n",
    "\n",
    "If the python environment specifications are correct, then this cell should return no error. Otherwise, reference the project README and env.txt to ensure you have all the necessary packages. If the errors persist, try building an environment straight from the env.txt using `pip install -r env.txt`.\n",
    "\n",
    "If the unity environment fails to load, make sure you have the `Reacher_Data` folder in the same directory as this notebook. Also verify the version number of the `unityagents` package (0.4.0) and try using version 3.6.3 of `python`.\n",
    "\n",
    "If you want to train the agent and don't want to see it do anything, comment out line 2 in the cell below."
   ],
   "metadata": {
    "collapsed": false,
    "pycharm": {
     "name": "#%% md\n"
    }
   }
  },
  {
   "cell_type": "code",
   "execution_count": 4,
   "metadata": {
    "pycharm": {
     "name": "#%%\n"
    }
   },
   "outputs": [
    {
     "name": "stderr",
     "output_type": "stream",
     "text": [
      "INFO:unityagents:\n",
      "'Academy' started successfully!\n",
      "Unity Academy name: Academy\n",
      "        Number of Brains: 1\n",
      "        Number of External Brains : 1\n",
      "        Lesson number : 0\n",
      "        Reset Parameters :\n",
      "\t\t\n",
      "Unity brain name: TennisBrain\n",
      "        Number of Visual Observations (per agent): 0\n",
      "        Vector Observation space type: continuous\n",
      "        Vector Observation space size (per agent): 8\n",
      "        Number of stacked Vector Observation: 3\n",
      "        Vector Action space type: continuous\n",
      "        Vector Action space size (per agent): 2\n",
      "        Vector Action descriptions: , \n"
     ]
    }
   ],
   "source": [
    "unity_env = UnityEnvironment(file_name='Tennis.exe'\n",
    "                       ,no_graphics=False\n",
    "                       )"
   ]
  },
  {
   "cell_type": "markdown",
   "metadata": {
    "pycharm": {
     "name": "#%% md\n"
    }
   },
   "source": [
    "Environments contain **_brains_** which are responsible for deciding the actions of their associated agents. Here we check for the first brain available, and set it as the default brain we will be controlling from Python."
   ]
  },
  {
   "cell_type": "code",
   "execution_count": 5,
   "metadata": {
    "pycharm": {
     "name": "#%%\n"
    }
   },
   "outputs": [],
   "source": [
    "# get the default brain\n",
    "brain_name = unity_env.brain_names[0]\n",
    "brain = unity_env.brains[brain_name]"
   ]
  },
  {
   "cell_type": "markdown",
   "metadata": {
    "pycharm": {
     "name": "#%% md\n"
    }
   },
   "source": [
    "### 2. Examine the State and Action Spaces\n",
    "\n",
    "In this environment, two agents control rackets to bounce a ball over a net. If an agent hits the ball over the net, it receives a reward of +0.1.  If an agent lets a ball hit the ground or hits the ball out of bounds, it receives a reward of -0.01.  Thus, the goal of each agent is to keep the ball in play.\n",
    "\n",
    "The observation space consists of 8 variables corresponding to the position and velocity of the ball and racket. Two continuous actions are available, corresponding to movement toward (or away from) the net, and jumping.\n",
    "\n",
    "Run the code cell below to print some information about the environment."
   ]
  },
  {
   "cell_type": "code",
   "execution_count": 6,
   "metadata": {
    "pycharm": {
     "name": "#%%\n"
    }
   },
   "outputs": [
    {
     "name": "stdout",
     "output_type": "stream",
     "text": [
      "Number of agents: 2\n",
      "Size of each action: 2\n",
      "There are 2 agents. Each observes a state with length: 24\n",
      "The state for the first agent looks like: [ 0.          0.          0.          0.          0.          0.\n",
      "  0.          0.          0.          0.          0.          0.\n",
      "  0.          0.          0.          0.         -6.65278625 -1.5\n",
      " -0.          0.          6.83172083  6.         -0.          0.        ]\n"
     ]
    }
   ],
   "source": [
    "# reset the environment\n",
    "env_info = unity_env.reset(train_mode=True)[brain_name]\n",
    "\n",
    "# number of agents\n",
    "num_agents = len(env_info.agents)\n",
    "print('Number of agents:', num_agents)\n",
    "\n",
    "# size of each action\n",
    "action_size = brain.vector_action_space_size\n",
    "print('Size of each action:', action_size)\n",
    "\n",
    "# examine the state space \n",
    "states = env_info.vector_observations\n",
    "state_size = states.shape[1]\n",
    "print('There are {} agents. Each observes a state with length: {}'.format(states.shape[0], state_size))\n",
    "print('The state for the first agent looks like:', states[0])"
   ]
  },
  {
   "cell_type": "markdown",
   "metadata": {
    "pycharm": {
     "name": "#%% md\n"
    }
   },
   "source": [
    "### 3. (Optional) Take Random Actions in the Environment\n",
    "\n",
    "Run the following code block to see what it looks like when the agent behaves randomly."
   ]
  },
  {
   "cell_type": "code",
   "execution_count": 7,
   "metadata": {
    "pycharm": {
     "name": "#%%\n"
    }
   },
   "outputs": [
    {
     "name": "stdout",
     "output_type": "stream",
     "text": [
      "Score (max over agents) from episode 1: 0.0\n",
      "Score (max over agents) from episode 2: 0.0\n",
      "Score (max over agents) from episode 3: 0.0\n",
      "Score (max over agents) from episode 4: 0.0\n",
      "Score (max over agents) from episode 5: 0.09000000171363354\n"
     ]
    }
   ],
   "source": [
    "# Run a random agent\n",
    "for i in range(1, 6):                                      # play game for 5 episodes\n",
    "    env_info = unity_env.reset(train_mode=False)[brain_name]     # reset the environment\n",
    "    states = env_info.vector_observations                  # get the current state (for each agent)\n",
    "    scores = np.zeros(num_agents)                          # initialize the score (for each agent)\n",
    "    while True:\n",
    "        actions = np.random.randn(num_agents, action_size) # select an action (for each agent)\n",
    "        actions = np.clip(actions, -1, 1)                  # all actions between -1 and 1\n",
    "        env_info = unity_env.step(actions)[brain_name]           # send all actions to tne environment\n",
    "        next_states = env_info.vector_observations         # get next state (for each agent)\n",
    "        rewards = env_info.rewards                         # get reward (for each agent)\n",
    "        dones = env_info.local_done                        # see if episode finished\n",
    "        scores += env_info.rewards                         # update the score (for each agent)\n",
    "        states = next_states                               # roll over states to next time step\n",
    "        if np.any(dones):                                  # exit loop if episode finished\n",
    "            break\n",
    "    print('Score (max over agents) from episode {}: {}'.format(i, np.max(scores)))"
   ]
  },
  {
   "cell_type": "markdown",
   "metadata": {
    "pycharm": {
     "name": "#%% md\n"
    }
   },
   "source": [
    "Don't worry about where the agent is after the random actions. The environment will reset before we begin training."
   ]
  },
  {
   "cell_type": "markdown",
   "source": [
    "### Train the Agent\n",
    "\n",
    "The following cell trains the agent using the MATD3 architecture described in `report.md`."
   ],
   "metadata": {
    "collapsed": false,
    "pycharm": {
     "name": "#%% md\n"
    }
   }
  },
  {
   "cell_type": "code",
   "execution_count": 8,
   "outputs": [],
   "source": [
    "# Initialize the agent.\n",
    "agent = MultiAgent(state_size=state_size, action_size=action_size, number_of_agents=num_agents,\n",
    "                   actor=Actor, critic=Critic, device=device)"
   ],
   "metadata": {
    "collapsed": false,
    "pycharm": {
     "name": "#%%\n"
    }
   }
  },
  {
   "cell_type": "code",
   "execution_count": 9,
   "outputs": [
    {
     "name": "stdout",
     "output_type": "stream",
     "text": [
      "Episode 100\tAverage Score: 0.00\n",
      "Episode 200\tAverage Score: 0.00\n",
      "Episode 300\tAverage Score: 0.00\n",
      "Episode 400\tAverage Score: 0.01\n",
      "Episode 500\tAverage Score: 0.00\n",
      "Episode 600\tAverage Score: 0.00\n",
      "Episode 700\tAverage Score: 0.01\n",
      "Episode 800\tAverage Score: 0.05\n",
      "Episode 900\tAverage Score: 0.04\n",
      "Episode 1000\tAverage Score: 0.05\n",
      "Episode 1100\tAverage Score: 0.06\n",
      "Episode 1200\tAverage Score: 0.06\n",
      "Episode 1300\tAverage Score: 0.06\n",
      "Episode 1400\tAverage Score: 0.08\n",
      "Episode 1500\tAverage Score: 0.10\n",
      "Episode 1600\tAverage Score: 0.09\n",
      "Episode 1700\tAverage Score: 0.14\n",
      "Episode 1800\tAverage Score: 0.20\n",
      "Episode 1900\tAverage Score: 0.33\n",
      "Episode 2000\tAverage Score: 0.27\n",
      "Episode 2100\tAverage Score: 0.48\n",
      "Episode 2109\tAverage Score: 0.50"
     ]
    },
    {
     "name": "stderr",
     "output_type": "stream",
     "text": [
      "WARNING:matplotlib.legend:No handles with labels found to put in legend.\n"
     ]
    },
    {
     "name": "stdout",
     "output_type": "stream",
     "text": [
      "Episode 2110\tAverage Score: 0.52\n",
      "Environment solved in 2010 episodes!\tAverage Score: 0.52\n"
     ]
    },
    {
     "data": {
      "text/plain": "<Figure size 432x288 with 1 Axes>",
      "image/png": "[encoded data removed]"
     },
     "metadata": {
      "needs_background": "light"
     },
     "output_type": "display_data"
    },
    {
     "data": {
      "text/plain": "<Figure size 432x288 with 0 Axes>"
     },
     "metadata": {},
     "output_type": "display_data"
    }
   ],
   "source": [
    "class Env(object):\n",
    "    \"\"\"\n",
    "    Helper Class for translating Unity env to gym env.\n",
    "    \"\"\"\n",
    "    def __init__(self, unity_env, train_mode=True):\n",
    "        \"\"\"Constructor for environment helper class.\n",
    "\n",
    "        Params\n",
    "        ======\n",
    "            unity_env (object): unity environment object\n",
    "            train_mode (bool): start the unity environment in training mode\n",
    "        \"\"\"\n",
    "        self.env = unity_env\n",
    "        self.brain_name = self.env.brain_names[0]\n",
    "        self.brain = self.env.brains[self.brain_name]\n",
    "        self.action_size = self.brain.vector_action_space_size\n",
    "        self.env_info = self.env.reset(train_mode=train_mode)[self.brain_name]\n",
    "        self.state_size = len(self.env_info.vector_observations[0])\n",
    "        self.train_mode = train_mode\n",
    "\n",
    "    def reset(self):\n",
    "        \"\"\"Reset the unity environment state\n",
    "        \"\"\"\n",
    "        self.env_info = self.env.reset(train_mode=self.train_mode)[self.brain_name]\n",
    "        return self.env_info.vector_observations\n",
    "\n",
    "    def step(self, action):\n",
    "        \"\"\"Take a step in the unity environment.\n",
    "\n",
    "        Params\n",
    "        ======\n",
    "            action (int): action selected by agent\n",
    "        \"\"\"\n",
    "        self.env_info = self.env.step(action)[self.brain_name]        # send the action to the environment\n",
    "        next_state = self.env_info.vector_observations   # get the next state\n",
    "        reward = self.env_info.rewards                  # get the reward\n",
    "        done = self.env_info.local_done\n",
    "        return next_state, reward, done, None\n",
    "\n",
    "\n",
    "env = Env(unity_env)\n",
    "device = torch.device(\"cuda:0\" if torch.cuda.is_available() else \"cpu\")\n",
    "\n",
    "def td3(n_episodes=2000, max_t=1000, target_score=200, num_agents=2):\n",
    "    \"\"\"Run a TD3 training loop.\n",
    "\n",
    "    Params\n",
    "    ======\n",
    "        n_episodes (int): maximum number of training episodes\n",
    "        max_t (int): maximum number of timesteps per episode\n",
    "        target_score (float): stop the training early if the average score over a window\n",
    "                              is higher than target_score\n",
    "    \"\"\"\n",
    "    scores = []                        # list containing scores from each episode\n",
    "    scores_window = deque(maxlen=100)  # last 100 scores\n",
    "    total_steps_taken = 0\n",
    "    for i_episode in range(1, n_episodes+1):\n",
    "        state = env.reset()\n",
    "        score = np.zeros(num_agents)\n",
    "        for t in range(max_t):\n",
    "            action = agent.act(state)\n",
    "            next_state, reward, done, _ = env.step(action.cpu().data.numpy())\n",
    "            agent.step(state, action.cpu().data.numpy(), reward, next_state, done, total_steps_taken)\n",
    "            state = next_state\n",
    "            score += np.array(reward)\n",
    "            total_steps_taken += 1\n",
    "            if np.any(done):\n",
    "                break\n",
    "\n",
    "        scores_window.append(np.max(score))       # save most recent score for early stopping\n",
    "        scores.append(score)              # save most recent score for recording all scores\n",
    "        print('\\rEpisode {}\\tAverage Score: {:.2f}'.format(i_episode, np.mean(scores_window)), end=\"\")\n",
    "        if i_episode % 100 == 0:\n",
    "            print('\\rEpisode {}\\tAverage Score: {:.2f}'.format(i_episode, np.mean(scores_window)))\n",
    "        if np.mean(scores_window)>=target_score:\n",
    "            print('\\nEnvironment solved in {:d} episodes!\\tAverage Score: {:.2f}'.format(i_episode-100, np.mean(scores_window)))\n",
    "            agent.save()\n",
    "            break\n",
    "\n",
    "    return scores\n",
    "\n",
    "# Begin training\n",
    "scores = td3(n_episodes=10000, target_score=0.5)\n",
    "\n",
    "# separate scores for plotting\n",
    "max_scores = [max(score) for score in scores]\n",
    "mean_max_scores = [np.mean([max(score) for score in scores[i:(i+100)]]) for i in range(len(scores))]\n",
    "a1_scores = [score[0] for score in scores]\n",
    "a2_scores = [score[1] for score in scores]\n",
    "\n",
    "# plot the scores\n",
    "fig = plt.figure()\n",
    "ax = fig.add_subplot(111)\n",
    "plt.plot(np.arange(len(scores)), max_scores)\n",
    "plt.plot(np.arange(len(scores)), mean_max_scores)\n",
    "plt.legend()\n",
    "plt.ylabel('Score')\n",
    "plt.xlabel('Episode #')\n",
    "plt.show()\n",
    "plt.savefig('avg_reward.png')"
   ],
   "metadata": {
    "collapsed": false,
    "pycharm": {
     "name": "#%%\n"
    }
   }
  },
  {
   "cell_type": "markdown",
   "source": [
    "### Evaluate\n",
    "\n",
    "As shown previously, the agent solves the environment in ~2000 episodes. If you have the unity window open and enabled in the environment, then you can run the cell below to watch your trained agent."
   ],
   "metadata": {
    "collapsed": false,
    "pycharm": {
     "name": "#%% md\n"
    }
   }
  },
  {
   "cell_type": "code",
   "execution_count": 9,
   "outputs": [
    {
     "data": {
      "text/plain": "array([4.29000006, 3.91000006])"
     },
     "execution_count": 9,
     "metadata": {},
     "output_type": "execute_result"
    }
   ],
   "source": [
    "# load the weights from file\n",
    "agent.agents[0].actor_local.load_state_dict(torch.load('checkpoints/agent_0_actor_checkpoint.pth'))\n",
    "agent.agents[1].actor_local.load_state_dict(torch.load('checkpoints/agent_1_actor_checkpoint.pth'))\n",
    "\n",
    "# Observe trained agent\n",
    "env_info = unity_env.reset(train_mode=False)[brain_name] # reset the environment\n",
    "state = env_info.vector_observations            # get the current state\n",
    "score = np.zeros(num_agents)                                     # initialize the score\n",
    "\n",
    "for _ in range(10):\n",
    "    while True:\n",
    "        action = agent.act(state, add_noise=True)        # select an action\n",
    "        env_info = unity_env.step(action.cpu().data.numpy())[brain_name]        # send the action to the environment\n",
    "        next_state = env_info.vector_observations      # get the next state\n",
    "        reward = env_info.rewards                      # get the reward\n",
    "        done = env_info.local_done                     # see if episode has finished\n",
    "        score += np.array(reward)                                # update the score\n",
    "        state = next_state                             # roll over the state to next time step\n",
    "        if np.any(done):                                       # exit loop if episode finished\n",
    "            break\n",
    "\n",
    "score"
   ],
   "metadata": {
    "collapsed": false,
    "pycharm": {
     "name": "#%%\n"
    }
   }
  },
  {
   "cell_type": "markdown",
   "source": [
    "Don't forget to close the environment when you're done."
   ],
   "metadata": {
    "collapsed": false,
    "pycharm": {
     "name": "#%% md\n"
    }
   }
  },
  {
   "cell_type": "code",
   "execution_count": 10,
   "outputs": [],
   "source": [
    "# close environment\n",
    "unity_env.close()"
   ],
   "metadata": {
    "collapsed": false,
    "pycharm": {
     "name": "#%%\n"
    }
   }
  },
  {
   "cell_type": "code",
   "execution_count": null,
   "outputs": [],
   "source": [],
   "metadata": {
    "collapsed": false,
    "pycharm": {
     "name": "#%%\n"
    }
   }
  }
 ],
 "metadata": {
  "kernelspec": {
   "display_name": "Python 3",
   "language": "python",
   "name": "python3"
  },
  "language_info": {
   "codemirror_mode": {
    "name": "ipython",
    "version": 3
   },
   "file_extension": ".py",
   "mimetype": "text/x-python",
   "name": "python",
   "nbconvert_exporter": "python",
   "pygments_lexer": "ipython3",
   "version": "3.6.4"
  }
 },
 "nbformat": 4,
 "nbformat_minor": 2
}